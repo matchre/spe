{
 "cells": [
  {
   "cell_type": "markdown",
   "metadata": {
    "collapsed": true
   },
   "source": [
    "Chiffrement de César\n",
    "====================\n",
    "\n",
    "Réouvrir la page principale\n",
    "---------------------------\n",
    "\n",
    "[Cliquer ici](../main.ipynb)\n",
    "\n",
    "\n",
    "\n",
    "Présentation de ce chiffrement\n",
    "------------------------------\n",
    "\n",
    "Les correspondances secrètes de Jules César employaient un procédé simple de chiffrement par décalage. Par exemple dans le tableau ci-dessous, **\"abcd\"** sera codé en **\"fghi\"** : le décalage est $5$.\n",
    "<table style=\"font-weight:bold;\">\n",
    "  <tr>\n",
    "    <td style=\"background-color: lightgrey;\">Lettre claire</td>\n",
    "    <td>a</td> <td>b</td> <td>c</td> <td>d</td> <td>e</td> <td>f</td>\n",
    "    <td>g</td> <td>h</td> <td>i</td> <td>j</td> <td>k</td> <td>l</td>\n",
    "    <td>m</td> <td>n</td> <td>o</td> <td>p</td> <td>q</td> <td>r</td>\n",
    "    <td>s</td> <td>t</td> <td>u</td> <td>v</td> <td>w</td> <td>x</td>\n",
    "    <td>y</td> <td>z</td>\n",
    "  </tr>\n",
    "  <tr>\n",
    "    <td style=\"background-color: lightgrey;\">Lettre codée</td>\n",
    "    <td>f</td>\n",
    "    <td>g</td> <td>h</td> <td>i</td> <td>j</td> <td>k</td> <td>l</td>\n",
    "    <td>m</td> <td>n</td> <td>o</td> <td>p</td> <td>q</td> <td>r</td>\n",
    "    <td>s</td> <td>t</td> <td>u</td> <td>v</td> <td>w</td> <td>x</td>\n",
    "    <td>y</td> <td>z</td>\n",
    "    <td>a</td> <td>b</td> <td>c</td> <td>d</td> <td>e</td> \n",
    "  </tr>\n",
    "</table>\n",
    "\n",
    "\n",
    "**Remarque :** dans les communications numériques, il est indispensable de sécuriser les échanges. Ceci se fait en partie en utilisant des protocoles de chiffrement.\n",
    "\n",
    "\n",
    "À vous de jouer : coder et décoder quand on connaît le décalage\n",
    "---------------------------------------------------------------\n",
    "\n",
    "Vous allez devoir compléter la fonction `code` pour coder un texte connaissant le décalage, et puis ensuite faire en sorte de décode le message afin de vérifier le bon fonctionnement de votre programme.\n",
    "Vous pourrez utiliser soit un dictionnaire Python, soit une liste, soit la fonction `ord` fournie par Python qui donne le code ASCII d'un caractère, ou une autre méthode de votre choix.\n",
    "\n",
    "**ATTENTION !** Pour simplifier les choses, nous ne considérons que le cas d'un texte ne comportant que des lettres en minuscule et non accentuées avec aucun **\"ç\"**, et nous garderons tous les espaces inchangés."
   ]
  },
  {
   "cell_type": "code",
   "execution_count": null,
   "metadata": {
    "collapsed": false
   },
   "outputs": [],
   "source": [
    "# ----------------------- #\n",
    "# -- À VOUS DE JOUER ! -- #\n",
    "# ----------------------- #\n",
    "\n",
    "# Compléter les points de suspension.\n",
    "\n",
    "\n",
    "# -------------- #\n",
    "# -- CRYPTAGE -- #\n",
    "# -------------- #\n",
    "\n",
    "def code(texte, decalage):\n",
    "#  Cette fonction doit renvoyer le texte crypté dans une chaîne de caractères.\n",
    "    ...\n",
    "\n",
    "\n",
    "# ----------------- #\n",
    "# -- APPLICATION -- #\n",
    "# ----------------- #\n",
    "\n",
    "decalage = 3\n",
    "texte    = \"abcd python est aussi un monthy\"\n",
    "..."
   ]
  },
  {
   "cell_type": "markdown",
   "metadata": {},
   "source": [
    "Pour les plus rapides : casser brutalement un code de César \n",
    "-----------------------------------------------------------\n",
    "\n",
    "Le code suivant contient un texte chiffré *\"à la César\"*. Vous devez fabriquer un programme pour le décoder. Nous savons que le codeur a laissé les espaces inchangés, et qu'il n'a utilisé que des lettres en minuscule et non accentuées. Le texte initial ne contient donc aucun caractère spécial du type point, apostrophe, guillemet ouvrant... etc.\n",
    "\n",
    "**Indications :** nous attendons ici une méthode brutale, mais nous souhaitons aussi que le texte soit décodé automatiquement sans intervention humaine autre que le lancement du programme."
   ]
  },
  {
   "cell_type": "code",
   "execution_count": null,
   "metadata": {
    "collapsed": false
   },
   "outputs": [],
   "source": [
    "# ----------------------- #\n",
    "# -- À VOUS DE JOUER ! -- #\n",
    "# ----------------------- #\n",
    "\n",
    "# Compléter les points de suspension.\n",
    "\n",
    "\n",
    "# -------------------------- #\n",
    "# -- TEXTE CRYPTÉ PROPOSÉ -- #\n",
    "# -------------------------- #\n",
    "\n",
    "texte_crypte = \"\"\"\n",
    "ap hpapst rthpg thi jct hpapst htgkxt egxcrxepatbtci spch ath gthipjgpcih pbtgxrpxch\n",
    "rgttt p ixyjpcp pj btmxfjt\n",
    "ap hpapst edgit at cdb st rpthpg rpgsxcx jc gthipjgpitjg xipaxtc dgxvxcpxgt st ap gtvxdc\n",
    "sj apr bpytjg pkpci s tipqaxg sth gthipjgpcih p ixyjpcp ti p tchtcpsp puxc st qtctuxrxtg\n",
    "s jct raxtcitat hdjwpxipci rdcidjgctg ap egdwxqxixdc\n",
    "xa tmxhit eajhxtjgh wxhidxgth pj hjyti st ap rgtpixdc st rtiit hpapst bpxh pjrjct s taath\n",
    "ct etji tigt rdcuxgbtt\n",
    "ap eajh rdbbjct gprdcitt epg gdhp rpgsxcx sxi fjt ap rgtpixdc uji at gthjaipi s jc\n",
    "tejxhtbtci sth peegdkxhxdcctbtcih st ap rjxhxct hdc etgt rdbedhp pktr ath bdntch sj qdgs\n",
    "ti egthht epg at itbeh sji egtepgtg ath hpapsth hjg at rdit sth ipqath\n",
    "jct pjigt wxhidxgt sxi fj taat uji rgttt epg jc vgdjet st hipgh s wdaanldds pegth jc adcv\n",
    "lttztcs uthixu\n",
    "htadc s pjigth taat htgpxi a xcktcixdc st axkd hpcixcx fjx ajx sdccp ap qpeixhp sj egtcdb\n",
    "sj egdegxtipxgt sj gthipjgpci dj xa igpkpxaapxi r thipsxgt rtajx st rthpg\n",
    "jct pjigt dgxvxct thi hxvcpatt epg sth rwtgrwtjgh  taat htgpxi a pspeipixdc s jct gtrtiit\n",
    "xipaxtcct fjt ap btgt st rthpg rpgsxcx jixaxhpxi\n",
    "\"\"\"\n",
    "\n",
    "# On nettoie les espaces initiaux et finaux inutiles.\n",
    "texte_crypte = texte_crypte.strip()\n",
    "\n",
    "# On remplace les retours à la ligne par des espaces.\n",
    "texte_crypte = texte_crypte.replace(\"\\n\", \" \")\n",
    "\n",
    "\n",
    "# -------------------------------- #\n",
    "# -- DÉCRYPTAGE DU TEXTE CRYPTÉ -- #\n",
    "# -------------------------------- #\n",
    "\n",
    "..."
   ]
  }
 ],
 "metadata": {
  "kernelspec": {
   "display_name": "Python 3",
   "language": "python",
   "name": "python3"
  },
  "language_info": {
   "codemirror_mode": {
    "name": "ipython",
    "version": 3
   },
   "file_extension": ".py",
   "mimetype": "text/x-python",
   "name": "python",
   "nbconvert_exporter": "python",
   "pygments_lexer": "ipython3",
   "version": "3.4.3"
  }
 },
 "nbformat": 4,
 "nbformat_minor": 0
}
