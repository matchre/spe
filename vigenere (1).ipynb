{
 "cells": [
  {
   "cell_type": "markdown",
   "metadata": {
    "collapsed": true
   },
   "source": [
    "Chiffrement de Vigenère\n",
    "=======================\n",
    "\n",
    "\n",
    "Réouvrir la page principale\n",
    "---------------------------\n",
    "\n",
    "[Cliquer ici](../main.ipynb)\n",
    "\n",
    "\n",
    "À vous de jouer : coder et décoder quand on connaît la clé\n",
    "----------------------------------------------------------\n",
    "\n",
    "### Contraintes à suivre\n",
    "\n",
    "Redonnons les contraintes qui étaient imposées par l'énoncé.\n",
    "\n",
    "1. Il faut construire le tableau de Vigenère sous forme d'un dictionnaire `TABLE_VIGENERE` dont les clés sont les lettres nommant les lignes, et les valeurs des dictionnaires similaires à ceux utilisés pour le chiffrement de César. L'idée est de pouvoir utiliser `TABLE_VIGENERE[\"l\"][\"c\"]` pour obtenir la valeur `\"n\"` qui traduit le fait que la ligne nommée **\"l\"** code le **\"c\"** en **\"n\"**. \n",
    "\n",
    "1. Il faut utiliser ensuite le dictionnaire à deux niveaux `TABLE_VIGENERE` pour coder le texte contenu dans la variable `texte` en utilisant la clé donné par la variable `cle`.\n",
    "\n",
    "1. Pour finir, on doit décoder le texte codé afin de vérifier que le programme ne fait pas n'importe quoi.\n",
    "\n",
    "\n",
    "**Remarque :** l'utilisation d'une table comme ici peut être intéressante pour éviter de répéter de faire plusieurs fois les mêmes calculs. On occupe plus de mémoire mais on économise du temps de calcul.\n",
    "\n",
    "\n",
    "### Version 1 : sans accent\n",
    "\n",
    "Dans le code suivant notez l'utilisation de la méthode `find` des variables de type `str` qui permet ici de récupérer la position d'une lettre dans l'alphabet."
   ]
  },
  {
   "cell_type": "code",
   "execution_count": null,
   "metadata": {
    "collapsed": false
   },
   "outputs": [],
   "source": [
    "# ----------------------- #\n",
    "# -- TABLE DE VIGENÈRE -- #\n",
    "# ----------------------- #\n",
    "\n",
    "ALPHABET        = \"abcdefghijklmnopqrstuvwxyz\"\n",
    "TAILLE_ALPHABET = len(ALPHABET)\n",
    "\n",
    "TABLE_VIGENERE = {}\n",
    "\n",
    "for decalage in range(TAILLE_ALPHABET):\n",
    "    lettre_codante   = ALPHABET[decalage]\n",
    "    alphabet_associe = ALPHABET[decalage:] + ALPHABET[:decalage]\n",
    "    codage_associe   = {}\n",
    "\n",
    "    for i in range(TAILLE_ALPHABET):\n",
    "        lettre_claire = ALPHABET[i]\n",
    "        lettre_codee  = alphabet_associe[i]\n",
    "\n",
    "        codage_associe[lettre_claire] = lettre_codee\n",
    "\n",
    "    TABLE_VIGENERE[lettre_codante] = codage_associe\n",
    "\n",
    "\n",
    "# ------------ #\n",
    "# -- CODAGE -- #\n",
    "# ------------ #\n",
    "\n",
    "def code(texte, cle):\n",
    "    \"\"\"\n",
    "Cette fonction code un texte en utilisant le chiffrement de Vigenère\n",
    "avec la clé donnée.\n",
    "    \"\"\"\n",
    "    global TABLE_VIGENERE\n",
    "    \n",
    "    texte      = texte.lower()\n",
    "    texte_code = \"\"\n",
    "\n",
    "    for position, cara in enumerate(texte):\n",
    "        position_cle   = position % len(cle)\n",
    "        lettre_codante = cle[position_cle]\n",
    "        texte_code    += TABLE_VIGENERE[lettre_codante][cara]\n",
    "\n",
    "    return texte_code\n",
    "\n",
    "\n",
    "# -------------- #\n",
    "# -- DÉCODAGE -- #\n",
    "# -------------- #\n",
    "\n",
    "def decode(texte, cle):\n",
    "    \"\"\"\n",
    "Cette fonction décode un texte codé via le chiffrement de Vigenère\n",
    "avec la clé donnée.\n",
    "    \"\"\"    \n",
    "    # L'idée est simple : on appelle code avec la clé \"inverse\".\n",
    "    # Par exemple, la clé inverse de \"abcde\" est \"azyxw\".\n",
    "\n",
    "    global ALPHABET, TAILLE_ALPHABET\n",
    "\n",
    "    cle_inverse = \"\"\n",
    "\n",
    "    for cara in cle:\n",
    "        position         = ALPHABET.find(cara)\n",
    "        position_inverse = (TAILLE_ALPHABET - position) % TAILLE_ALPHABET\n",
    "        \n",
    "        cle_inverse += ALPHABET[position_inverse]\n",
    "    \n",
    "    return code(texte, cle_inverse)        \n",
    "\n",
    "\n",
    "# ----------------- #\n",
    "# -- APPLICATION -- #\n",
    "# ----------------- #\n",
    "\n",
    "texte = \"cestlemomentdetester\"\n",
    "cle   = \"lebeautemps\"\n",
    "\n",
    "texte_code   = code(texte, cle)\n",
    "texte_decode = decode(texte_code, cle)\n",
    "\n",
    "print(\"Clé           :\", cle)\n",
    "print(\"Texte initial :\", texte)\n",
    "print(\"Texte codé    :\", texte_code)\n",
    "print(\"Texte décodé  :\", texte_decode)"
   ]
  },
  {
   "cell_type": "markdown",
   "metadata": {},
   "source": [
    "### Version 2 : gestion des accents et de certains caractères spéciaux\n",
    "\n",
    "Rien de neuf ici au regard des corrections des exercices précédents."
   ]
  },
  {
   "cell_type": "code",
   "execution_count": null,
   "metadata": {
    "collapsed": false
   },
   "outputs": [],
   "source": [
    "# --------------- #\n",
    "# -- NETTOYAGE -- #\n",
    "# --------------- #\n",
    "\n",
    "ASCII_VERS_SPECIAL = {\n",
    "# \\n désigne un retour à la ligne.\n",
    "# \\\" permet d'indiquer le caractère \" à l'intérieur de \n",
    "# deux guillemets \"...\".\n",
    "    '' : \"-,.’'\\\" \\n\",\n",
    "    'a':\"àâä\",\n",
    "    'c': \"ç\",\n",
    "    'e': \"èéêë\",\n",
    "    'i': \"îï\",\n",
    "    'o': \"ôö\",\n",
    "    'u': \"ùûü\"\n",
    "}\n",
    "\n",
    "SPECIAL_VERS_ASCII = {}\n",
    "\n",
    "# Parcours des clés et et de leur valeur de ASCII_VERS_SPECIAL.\n",
    "for cara_ascii, cara_speciaux in ASCII_VERS_SPECIAL.items():\n",
    "    # Parcours supplémentaire des caractères de lettres_speciales. \n",
    "    for un_cara_special in cara_speciaux:\n",
    "        SPECIAL_VERS_ASCII[un_cara_special] = cara_ascii\n",
    "\n",
    "\n",
    "def nettoie_texte(texte):\n",
    "    \"\"\"\n",
    "Cette fonction \"nettoie\" un texte pour en obtenir une version\n",
    "ASCII sans espace, ni retour à la ligne.\n",
    "    \"\"\"\n",
    "    global SPECIAL_VERS_ASCII\n",
    "    \n",
    "    texte = texte.strip()\n",
    "    texte = texte.lower()\n",
    "\n",
    "    texte_propre = \"\"\n",
    "    \n",
    "    for cara in texte:\n",
    "        if cara in SPECIAL_VERS_ASCII:\n",
    "            texte_propre += SPECIAL_VERS_ASCII[cara]\n",
    "        else:\n",
    "            texte_propre += cara\n",
    "        \n",
    "    return texte_propre\n",
    "\n",
    "\n",
    "# ----------------------- #\n",
    "# -- TABLE DE VIGENÈRE -- #\n",
    "# ----------------------- #\n",
    "\n",
    "ALPHABET        = \"abcdefghijklmnopqrstuvwxyz\"\n",
    "TAILLE_ALPHABET = len(ALPHABET)\n",
    "\n",
    "TABLE_VIGENERE = {}\n",
    "\n",
    "for decalage in range(TAILLE_ALPHABET):\n",
    "    lettre_codante   = ALPHABET[decalage]\n",
    "    alphabet_associe = ALPHABET[decalage:] + ALPHABET[:decalage]\n",
    "    codage_associe   = {}\n",
    "\n",
    "    for i in range(TAILLE_ALPHABET):\n",
    "        lettre_claire = ALPHABET[i]\n",
    "        lettre_codee  = alphabet_associe[i]\n",
    "\n",
    "        codage_associe[lettre_claire] = lettre_codee\n",
    "\n",
    "    TABLE_VIGENERE[lettre_codante] = codage_associe\n",
    "\n",
    "\n",
    "# ------------ #\n",
    "# -- CODAGE -- #\n",
    "# ------------ #\n",
    "\n",
    "def code(texte, cle):\n",
    "    \"\"\"\n",
    "Cette fonction code un texte en utilisant le chiffrement de Vigenère\n",
    "avec la clé donnée.\n",
    "    \"\"\"\n",
    "    global TABLE_VIGENERE\n",
    "    \n",
    "    texte      = nettoie_texte(texte)\n",
    "    texte_code = \"\"\n",
    "\n",
    "    for position, cara in enumerate(texte):\n",
    "        position_cle   = position % len(cle)\n",
    "        lettre_codante = cle[position_cle]\n",
    "        texte_code    += TABLE_VIGENERE[lettre_codante][cara]\n",
    "\n",
    "    return texte_code\n",
    "\n",
    "\n",
    "# -------------- #\n",
    "# -- DÉCODAGE -- #\n",
    "# -------------- #\n",
    "\n",
    "def decode(texte, cle):\n",
    "    \"\"\"\n",
    "Cette fonction décode un texte codé via le chiffrement de Vigenère\n",
    "avec la clé donnée.\n",
    "    \"\"\"    \n",
    "    # L'idée est simple : on appelle code avec la clé \"inverse\".\n",
    "    # Par exemple, la clé inverse de \"abcde\" est \"azyxw\".\n",
    "\n",
    "    global ALPHABET, TAILLE_ALPHABET\n",
    "\n",
    "    cle_inverse = \"\"\n",
    "\n",
    "    for cara in cle:\n",
    "        position         = ALPHABET.find(cara)\n",
    "        position_inverse = (TAILLE_ALPHABET - position) % TAILLE_ALPHABET\n",
    "        \n",
    "        cle_inverse += ALPHABET[position_inverse]\n",
    "    \n",
    "    return code(texte, cle_inverse)\n",
    "\n",
    "\n",
    "# ----------------- #\n",
    "# -- APPLICATION -- #\n",
    "# ----------------- #\n",
    "\n",
    "cle = \"biographie\"\n",
    "\n",
    "# Le texte suivant a été copié-collé sur Wikipédia en septembre 2015. \n",
    "texte = \"\"\"\n",
    "Blaise de Vigenère était un diplomate, cryptographe, traducteur, alchimiste et\n",
    "astrologue français.\n",
    "Il était de famille noble et connue. Son père, Jean, contrôleur ordinaire des guerres,\n",
    "lui fit donner une éducation classique très poussée, l’envoyant pour cela à Paris.\n",
    "L’adolescent en profita avec zèle. Avide de connaissances, il étudiait encore à l'âge mûr,\n",
    "et eut comme maîtres, pour le grec et l’hébreu, Turnèbe et Dorat.\n",
    "Il connut une existence très mouvementée. Encore tout jeune, il accompagna l’envoyé de\n",
    "France, Louis Adhémar de Grignan, à la diète de Worms. Puis, pendant plusieurs années,\n",
    "il voyagea pour son compte, parcourant en particulier l’Allemagne et la Hollande.\n",
    "Il devint ensuite, à vingt-quatre ans, secrétaire du duc de Nevers, charge qu’il conserva\n",
    "jusqu’à la mort de ce seigneur et de son fils.\n",
    "Il visita Rome au cours d’une mission diplomatique de deux ans et il y retourna lorsqu’il\n",
    "y fut nommé secrétaire d’ambassade, y restant trois ans.\n",
    "Pendant ces deux séjours, il lut des livres traitant de cryptographie et entra en contact\n",
    "avec des cryptologues.\n",
    "Enfin, Henri III, qui avait beaucoup d’estime pour lui, le fit secrétaire de sa chambre.\n",
    "Il fut, entre-temps, quelque peu soldat, et mena une vie très peu exemplaire.\n",
    "Il mourut d'un cancer de la gorge. Sa tombe est à l'église Saint-Etienne-du-Mont.\n",
    "\"\"\"\n",
    "\n",
    "texte_code = code(texte, cle)\n",
    "\n",
    "print(texte_code)"
   ]
  },
  {
   "cell_type": "markdown",
   "metadata": {},
   "source": [
    "Indiquons au passage que le texte codé est en fait celui qui était proposé dans le tout dernier exercice qui va être corrigé ci-dessous *(nous savons donc que `biographie` la clé utilisée est de taille $10$)*.\n",
    "\n",
    "\n",
    "Pour les plus rapides : une première étape pour casser un code de Vigenère \n",
    "--------------------------------------------------------------------------\n",
    "\n",
    "Dans cette dernière section, nous allons utiliser la possibilité de faire appel à des cellules exécutées précédemment par IPython afin de détailler pas à pas ce que nous allons faire. Commençons par redonner le texte crypté dont on veut deviner la taille de la clé. "
   ]
  },
  {
   "cell_type": "code",
   "execution_count": 3,
   "metadata": {
    "collapsed": false
   },
   "outputs": [],
   "source": [
    "texte_code = \"\"\"\n",
    "ctoojesldmhmbkietaimucbjzpavueumqxppivovbxvkkrpkcgumixrlroqqjahkvtpz\n",
    "bvptcmleuyirdiwyzltaimulslrmxstiowprveijwrocsyfnelzikmottocazsmmixfr\n",
    "spvejzsjvsvbmvsmgrliupbhpvbkiuclmhvkozzocjtetawwleiymwqwiyjetsmrwwmg\n",
    "etevcvdmzgrppyqwmirucehjmrumbvioupbebdsiqealizjlsjvcduvejaggectzqpfb\n",
    "ijzaxamrdwfkrlpnmqvzszvuijwqnmagztglatpcfrvgglkiutvksrtbbysvshveikwv\n",
    "bbwrtocucxvvskoihamrdmhxvsbvczfustketlvgpzszfuiqmyomwrrcrvutbobgcecc\n",
    "wcflsliacjmppcwyrdwlueslsmiivuirbtojzeillixwfsjpjpatfvrgetescwjmixja\n",
    "cumitqzbfypnmeqwixjocjwqqbsvrrrvcvbvhkeppybmdczovrahtpfuomeetateiwzr\n",
    "rnslqpemjoettuayjbsgmicnbuvihxvaczaidzszrigllyecqjvntcmvtkvgigtxcmmk\n",
    "ctjegcinvaearlptwvulsivstporfcfkkdtzwrgqzyzlkpamuifudepbksvzgjlnttqw\n",
    "tqctuieswqbbwwlesllivfotjeiptcsmhulrchtssaeazlnmcxowasvstjziuiwxvdpt\n",
    "jetaojvyglaxbvhzioxzirtxstuacakitlsaostqwysawrcuikmwmqjxvsiyimuibzue\n",
    "rygtuwuxrpwpmiumbziatuksoboikaklkhfaqxppivtshcsyvnupvlfvfozixxcmbdoo\n",
    "kbthcgpcdjvsipuiqwixcuxsmjjbgktrtaimsmrkjaroiqczsocfjamruzszvmezyyft\n",
    "eavptbasmlozvtblvevvsbzeiymwqmikoebwtejzsocmdbzyulittacjmvemzgxognmw\n",
    "bbcssetzbemmurzstzimobszzecumhvuctk\n",
    "\"\"\"\n",
    "\n",
    "texte_code = texte_code.strip()\n",
    "texte_code = texte_code.replace(\"\\n\", \"\")"
   ]
  },
  {
   "cell_type": "markdown",
   "metadata": {},
   "source": [
    "L'idée proposée consiste à repérer les groupes de lettres qui se répètenet dans le texte codé. La fonction suivante va nous donner la liste des groupes de longueur `taille` qui se répètentent dans un texte. Cette fonction prend en compte les groupes qui se superposent. Par exemple dans `\"aab------aa---ab\"`, les groupes `\"aa\"` et `\"ab\"` seront renvoyés."
   ]
  },
  {
   "cell_type": "code",
   "execution_count": 4,
   "metadata": {
    "collapsed": false
   },
   "outputs": [],
   "source": [
    "def trouve_grpes_repetes(texte, taille):\n",
    "    \"\"\"\n",
    "Cette fonction renvoie une liste de chaînes de caractères de la taille\n",
    "demandée qui sont présents au moins deux fois dans le texte.\n",
    "    \"\"\"\n",
    "    grpes_repetes = []\n",
    "    \n",
    "    for i in range(0, len(texte) - taille):\n",
    "        un_grpe = texte_code[i:i + taille]\n",
    "        \n",
    "        # L'utilisation de texte_code[i:i + taille] ne garantit pas\n",
    "        # que l'on aura une chaîne de longueur taille.\n",
    "        if len(un_grpe) == taille and un_grpe not in grpes_repetes:\n",
    "            occurence = texte.count(un_grpe)\n",
    "\n",
    "            if occurence > 1:\n",
    "                grpes_repetes.append(un_grpe)\n",
    "\n",
    "    return grpes_repetes"
   ]
  },
  {
   "cell_type": "markdown",
   "metadata": {},
   "source": [
    "Nous devons ensuite connaître toutes les distances qui séparent deux groupes consécutifs identiques. Construisons une fonction pour obtenir ces informations."
   ]
  },
  {
   "cell_type": "code",
   "execution_count": 7,
   "metadata": {
    "collapsed": false
   },
   "outputs": [],
   "source": [
    "def trouve_distances(texte, grpes_repetes):\n",
    "    \"\"\"\n",
    "Étant donné une liste de chaînes de caractères qui se répètent dans le\n",
    "texte donné, cette fonction renvoie toutes les distances qui séparent\n",
    "tous les couples de groupes consécutifs identiques.\n",
    "    \"\"\"\n",
    "    distances = []\n",
    "    \n",
    "    for un_grpe in grpes_repetes:\n",
    "        i = 0\n",
    "        positions = []\n",
    "        taille_grpe = len(un_grpe)\n",
    "        \n",
    "        while True:\n",
    "            i = texte.find(un_grpe, i)\n",
    "            \n",
    "            # Le groupe n'est plus présent à partir de la position i.\n",
    "            if i == -1:\n",
    "                break\n",
    "            \n",
    "            positions.append(i)\n",
    "            \n",
    "            # On passe au groupe suivant éventuel.\n",
    "            i += 1\n",
    "\n",
    "        for i, pos in enumerate(positions[:-1]):\n",
    "            une_distance = positions[i + 1] - pos\n",
    "                \n",
    "            if une_distance not in distances:\n",
    "                distances.append(une_distance)\n",
    "\n",
    "    return distances"
   ]
  },
  {
   "cell_type": "markdown",
   "metadata": {},
   "source": [
    "Testons nos deux fonctions."
   ]
  },
  {
   "cell_type": "code",
   "execution_count": 6,
   "metadata": {
    "collapsed": false
   },
   "outputs": [
    {
     "name": "stdout",
     "output_type": "stream",
     "text": [
      "taille = 2\n",
      "----------\n",
      "grpes_repetes = ['ct', 'to', 'es', 'mb', 'ie', 'et', 'ta', 'ai', 'im', 'uc', 'pa', 'av', 'ue', 'eu', 'vo', 'gu', 'mi', 'ro', 'pt', 'le', 'ir', 'di', 'st', 'ti', 'io', 've', 'ne', 'el', 'mo', 'ca', 'mm', 'rs', 'gr', 'li', 'te', 'ge', 'ev', 'ce', 'vi', 'ou', 'be', 'si', 'iq', 'ea', 'du', 'ag', 'ec', 'am', 'ui', 'ma', 'la', 'at', 'ut', 'rt', 'ha', 'fu', 'us', 'om', 'cr', 'ac', 'mp', 'lu', 'il', 'll', 'rg', 'it', 'yp', 'me', 'ra', 'rn', 'ns', 'pe', 'em', 'va', 'ri', 'ig', 'nt', 'in', 'nv', 'ar', 'po', 'or', 'de', 'ip', 'ch', 'ss', 'sa', 'as', 'er', 'ry', 'ux', 'so', 'nu', 'do', 'tr', 'lo', 'og', 'gn', 'se', 'ur']\n",
      "\n",
      "distances = [996, 433, 417, 134, 43, 215, 8, 93, 49, 54, 218, 352, 27, 25, 7, 55, 13, 172, 227, 124, 64, 383, 189, 91, 50, 235, 35, 21, 250, 137, 79, 9, 145, 173, 84, 187, 436, 100, 24, 37, 96, 19, 74, 10, 149, 391, 200, 85, 45, 92, 66, 1053, 151, 529, 374, 133, 14, 763, 46, 44, 645, 207, 116, 4, 204, 41, 77, 106, 212, 75, 105, 219, 33, 262, 98, 896, 736, 205, 670, 582, 402, 6, 36, 26, 87, 271, 477, 559, 221, 138, 169, 305, 364, 506, 170, 435, 256, 192, 642, 164, 286, 313, 5, 180, 135, 48, 372, 935, 328, 466, 548, 157, 94, 61, 346, 638, 354, 297, 111, 69, 73, 485, 341, 255, 147, 523, 57, 22, 70, 274, 183, 290, 382, 16, 119, 399, 20, 132, 90, 206, 126, 694, 366, 239, 28, 461, 500, 526, 3, 584, 110, 97, 330, 136, 822, 336, 403, 158, 129, 202, 216, 292, 120, 459, 32, 176, 213, 289, 152, 342, 81, 141, 409, 260, 337, 125, 128, 209, 31, 369, 685, 99, 562, 53, 397, 412, 214, 159, 113, 160, 71, 86, 542, 17, 359, 188, 984, 371, 291, 331, 377, 18, 114, 83, 623, 524, 333, 275, 550, 530, 117, 263, 127, 131, 522, 378, 225, 269, 109, 229, 514, 51, 222, 375, 102, 65, 23, 68, 42, 115, 830, 684, 15, 532, 619, 217, 139, 720, 453, 498, 193, 392, 301, 78, 243, 47, 777, 39, 943, 121, 718, 179, 167, 140]\n",
      "\n",
      "\n",
      "taille = 3\n",
      "----------\n",
      "grpes_repetes = ['tai', 'rge', 'ssa']\n",
      "\n",
      "distances = [84, 623, 200, 221, 523, 619]\n",
      "\n",
      "\n",
      "taille = 4\n",
      "----------\n",
      "grpes_repetes = []\n",
      "\n",
      "distances = []\n",
      "\n",
      "\n",
      "taille = 5\n",
      "----------\n",
      "grpes_repetes = []\n",
      "\n",
      "distances = []\n"
     ]
    }
   ],
   "source": [
    "for taille in range(2, 6):\n",
    "    grpes_repetes = trouve_grpes_repetes(texte, taille)\n",
    "    distances     = trouve_distances(texte, grpes_repetes)\n",
    "\n",
    "    print(\"taille =\", taille)\n",
    "    print(\"----------\")\n",
    "    print(\"grpes_repetes =\", grpes_repetes)\n",
    "    print(\"\")\n",
    "    print(\"distances =\", distances)\n",
    "    \n",
    "    if taille !=5:\n",
    "        print(\"\")\n",
    "        print(\"\")"
   ]
  },
  {
   "cell_type": "markdown",
   "metadata": {},
   "source": [
    "On note qu'ici seules les tailles $2$ et $3$ semblent pertinentes. Nous ferons le pari que ce comportement est général mais attention aux conclusions trop hâtives *(l'idéal serait de tester cette conjecture sur un grand nombre de textes français avec différents clés créées aléatoirement formées de mots existants ou non)*.\n",
    "\n",
    "À partir de la liste des distances entre tous les couples de groupes consécutifs identiques, nous allons déterminer une liste de diviseurs de ces distances. Nous allons aussi compter le nombre d'occurence de ces diviseurs. Nous utilisons ici le fait que si les répétitions sont dues au codage avec la même partie de la clé de deux mêmes groupes de lettres dans le texte clair, alors la distance entre ces groupes sera un multiple de la taille de la clé."
   ]
  },
  {
   "cell_type": "code",
   "execution_count": 8,
   "metadata": {
    "collapsed": false
   },
   "outputs": [],
   "source": [
    "def diviseurs(naturel):\n",
    "    \"\"\"\n",
    "Cette fonction renvoie la liste de tous les diviseurs, autre que 1,\n",
    "d'un naturel.\n",
    "\n",
    "Note : la méthode employée est peu efficace mais elle reste utilisable\n",
    "dans le cadre où nous allons l'employer.\n",
    "    \"\"\"\n",
    "    if naturel == 1:\n",
    "        return []\n",
    "    \n",
    "    les_diviseurs = []\n",
    "    \n",
    "    for i in range(2, naturel + 1):\n",
    "        if naturel % i == 0:\n",
    "            les_diviseurs.append(i)\n",
    "    \n",
    "    return les_diviseurs\n",
    "    \n",
    "\n",
    "def cherche_multiples_taille(distances):\n",
    "    \"\"\"\n",
    "À partir de la liste des distances entre tous les couples de groupes\n",
    "consécutifs identiques, cette fonction renvoie un dictionnaire dont\n",
    "les clés sont les diviseurs des distances, et les valeurs le nombre\n",
    "de fois où un diviseur a été trouvé. Nous ne gardons pas les diviseurs\n",
    "qui n'apparaissent qu'une seule fois.\n",
    "    \"\"\"\n",
    "    tous_les_multiples = {}\n",
    "    \n",
    "    for une_distance in distances:\n",
    "        for un_diviseur in diviseurs(une_distance):\n",
    "            if un_diviseur not in tous_les_multiples:\n",
    "                tous_les_multiples[un_diviseur] = 1\n",
    "            else:\n",
    "                tous_les_multiples[un_diviseur] += 1\n",
    "\n",
    "    # On ne garde que les diviseurs apparaissant au moins deux fois.\n",
    "    multiples = {}\n",
    "    \n",
    "    for diviseur, occurence in tous_les_multiples.items():\n",
    "        if occurence != 1:\n",
    "            multiples[diviseur] = occurence\n",
    "    \n",
    "    return multiples"
   ]
  },
  {
   "cell_type": "markdown",
   "metadata": {},
   "source": [
    "Testons cette nouvelle fonction."
   ]
  },
  {
   "cell_type": "code",
   "execution_count": 9,
   "metadata": {
    "collapsed": false
   },
   "outputs": [
    {
     "name": "stdout",
     "output_type": "stream",
     "text": [
      "taille          = 2\n",
      "multiple_taille = {2: 121, 3: 86, 4: 57, 5: 50, 6: 40, 7: 32, 8: 26, 9: 29, 10: 23, 11: 24, 12: 17, 13: 16, 14: 14, 15: 15, 16: 15, 17: 17, 18: 12, 19: 10, 20: 10, 21: 11, 22: 13, 23: 12, 24: 9, 25: 12, 26: 5, 27: 11, 28: 8, 29: 8, 30: 5, 31: 7, 32: 10, 33: 6, 34: 6, 35: 4, 36: 5, 37: 6, 38: 5, 39: 4, 40: 4, 41: 7, 42: 5, 43: 8, 44: 4, 45: 6, 46: 5, 47: 5, 48: 5, 49: 4, 50: 6, 51: 5, 52: 2, 53: 7, 54: 3, 55: 6, 56: 3, 57: 5, 58: 4, 60: 3, 61: 4, 62: 2, 63: 3, 64: 5, 65: 2, 66: 3, 67: 3, 68: 3, 69: 3, 70: 2, 71: 2, 72: 2, 73: 4, 74: 2, 75: 3, 76: 3, 79: 2, 80: 2, 81: 3, 82: 3, 83: 4, 84: 2, 85: 4, 86: 2, 87: 3, 88: 2, 90: 3, 91: 2, 92: 2, 93: 2, 94: 2, 96: 2, 97: 4, 98: 2, 99: 2, 100: 3, 102: 2, 103: 2, 106: 3, 107: 2, 109: 4, 110: 3, 111: 4, 112: 2, 359: 2, 114: 3, 275: 2, 117: 2, 120: 2, 123: 2, 124: 2, 125: 4, 126: 2, 128: 3, 129: 2, 131: 3, 133: 3, 134: 3, 137: 5, 342: 2, 139: 2, 145: 3, 146: 2, 151: 2, 159: 2, 164: 3, 166: 3, 171: 2, 173: 2, 176: 2, 328: 2, 180: 2, 291: 2, 183: 2, 187: 3, 189: 2, 262: 2, 206: 2, 271: 2, 274: 3, 214: 2, 215: 2, 292: 2, 218: 2, 263: 2, 498: 2, 249: 2, 250: 2}\n",
      "\n",
      "taille          = 3\n",
      "multiple_taille = {2: 2, 4: 2, 7: 2}\n",
      "\n"
     ]
    }
   ],
   "source": [
    "for taille in range(2, 4):\n",
    "    grpes_repetes    = trouve_grpes_repetes(texte, taille)\n",
    "    distances        = trouve_distances(texte, grpes_repetes)\n",
    "    multiples_taille = cherche_multiples_taille(distances)\n",
    "\n",
    "    print(\"taille          =\", taille)\n",
    "    print(\"multiple_taille =\", multiples_taille)\n",
    "\n",
    "    if taille !=5:\n",
    "        print(\"\")"
   ]
  },
  {
   "cell_type": "markdown",
   "metadata": {},
   "source": [
    "Pour finir, nous faisons le choix très pifométrique de ne garder qu'au maximum les $15$ diviseurs apparaissant le plus souvent *(nous allons reparler de ceci un peu plus bas)*."
   ]
  },
  {
   "cell_type": "code",
   "execution_count": 10,
   "metadata": {
    "collapsed": false
   },
   "outputs": [],
   "source": [
    "def propose_meilleurs_multiples(multiples):\n",
    "    \"\"\"\n",
    "Cette fonction renvoie une liste ordonnée obtenue en ne gardant que\n",
    "les multiples probables les plus fréquents de la taille de la clé\n",
    "utilisée pour crypter un texte avec le code de Vigenère.\n",
    "    \"\"\"\n",
    "    meilleures_occurences = []\n",
    "\n",
    "    for un_multiple, occurence in multiples.items():\n",
    "        meilleures_occurences.append(occurence)\n",
    "    \n",
    "    meilleures_occurences = sorted(meilleures_occurences)\n",
    "    meilleures_occurences = meilleures_occurences[-15:]\n",
    "    \n",
    "    meilleurs_multiples = []\n",
    "    \n",
    "    for un_multiple, occurence in multiples.items():\n",
    "        if occurence in meilleures_occurences:\n",
    "            meilleurs_multiples.append(un_multiple)\n",
    "    \n",
    "    meilleurs_multiples = sorted(meilleurs_multiples)\n",
    "\n",
    "    return meilleurs_multiples"
   ]
  },
  {
   "cell_type": "markdown",
   "metadata": {},
   "source": [
    "Complétons le test fait précédemment pour qu'il utilise notre dernière fonction."
   ]
  },
  {
   "cell_type": "code",
   "execution_count": 11,
   "metadata": {
    "collapsed": false
   },
   "outputs": [
    {
     "name": "stdout",
     "output_type": "stream",
     "text": [
      "taille          = 2\n",
      "meilleurs_multiples = [2, 3, 4, 5, 6, 7, 8, 9, 10, 11, 12, 13, 15, 16, 17]\n",
      "\n",
      "taille          = 3\n",
      "meilleurs_multiples = [2, 4, 7]\n",
      "\n"
     ]
    }
   ],
   "source": [
    "for taille in range(2, 4):\n",
    "    grpes_repetes       = trouve_grpes_repetes(texte, taille)\n",
    "    distances           = trouve_distances(texte, grpes_repetes)\n",
    "    multiples_taille    = cherche_multiples_taille(distances)\n",
    "    meilleurs_multiples = propose_meilleurs_multiples(multiples_taille)\n",
    "\n",
    "\n",
    "    print(\"taille          =\", taille)\n",
    "    print(\"meilleurs_multiples =\", meilleurs_multiples)\n",
    "\n",
    "    if taille != 5:\n",
    "        print(\"\")"
   ]
  },
  {
   "cell_type": "markdown",
   "metadata": {},
   "source": [
    "Nous voyons apparaître le $10$ attendu dans les propositions faites. Tout ce qui précède nous amène à la fonction suivante."
   ]
  },
  {
   "cell_type": "code",
   "execution_count": 12,
   "metadata": {
    "collapsed": false
   },
   "outputs": [],
   "source": [
    "def tailles_possibles_cle(texte):\n",
    "    \"\"\"\n",
    "Cette fonction propose une liste des multiples les plus probables\n",
    "de la taille de la clé utilisée pour crypter un texte avec le code\n",
    "de Vigenère.\n",
    "    \"\"\"\n",
    "    meilleurs_multiples = []\n",
    "    \n",
    "    for taille in range(2, 4):\n",
    "        grpes_repetes        = trouve_grpes_repetes(texte, taille)\n",
    "        distances            = trouve_distances(texte, grpes_repetes)\n",
    "        multiples_taille     = cherche_multiples_taille(distances)\n",
    "        meilleurs_multiples += propose_meilleurs_multiples(multiples_taille)\n",
    "\n",
    "    \n",
    "    meilleurs_multiples = list(set(meilleurs_multiples))\n",
    "    meilleurs_multiples = sorted(meilleurs_multiples)\n",
    "\n",
    "    return meilleurs_multiples"
   ]
  },
  {
   "cell_type": "markdown",
   "metadata": {},
   "source": [
    "Testons ce que nous renvoie notre fonction. "
   ]
  },
  {
   "cell_type": "code",
   "execution_count": 13,
   "metadata": {
    "collapsed": false
   },
   "outputs": [
    {
     "name": "stdout",
     "output_type": "stream",
     "text": [
      "tailles_possibles = [2, 3, 4, 5, 6, 7, 8, 9, 10, 11, 12, 13, 15, 16, 17]\n"
     ]
    }
   ],
   "source": [
    "tailles_possibles = tailles_possibles_cle(texte)\n",
    "\n",
    "print(\"tailles_possibles =\", tailles_possibles)"
   ]
  },
  {
   "cell_type": "markdown",
   "metadata": {},
   "source": [
    "On voit bien apparaître notre $10$. Est-ce un coup de chance ? Pour valider un peu notre programme, testons un texte clair crypté avec des clés fabriquées aléatoirement. C'est assez simple à faire."
   ]
  },
  {
   "cell_type": "code",
   "execution_count": 14,
   "metadata": {
    "collapsed": false
   },
   "outputs": [
    {
     "name": "stdout",
     "output_type": "stream",
     "text": [
      "Aucune erreur sur 1000 tests aléatoires effectués.\n"
     ]
    }
   ],
   "source": [
    "# ------------- #\n",
    "# -- TESTONS -- #\n",
    "# ------------- #\n",
    "\n",
    "from random import randint\n",
    "\n",
    "# Le texte suivant a été copié-collé sur Wikipédia en septembre 2015. \n",
    "TEXTE = \"\"\"\n",
    "Blaise de Vigenère était un diplomate, cryptographe, traducteur, alchimiste et\n",
    "astrologue français.\n",
    "Il était de famille noble et connue. Son père, Jean, contrôleur ordinaire des guerres,\n",
    "lui fit donner une éducation classique très poussée, l’envoyant pour cela à Paris.\n",
    "L’adolescent en profita avec zèle. Avide de connaissances, il étudiait encore à l'âge mûr,\n",
    "et eut comme maîtres, pour le grec et l’hébreu, Turnèbe et Dorat.\n",
    "Il connut une existence très mouvementée. Encore tout jeune, il accompagna l’envoyé de\n",
    "France, Louis Adhémar de Grignan, à la diète de Worms. Puis, pendant plusieurs années,\n",
    "il voyagea pour son compte, parcourant en particulier l’Allemagne et la Hollande.\n",
    "Il devint ensuite, à vingt-quatre ans, secrétaire du duc de Nevers, charge qu’il conserva\n",
    "jusqu’à la mort de ce seigneur et de son fils.\n",
    "Il visita Rome au cours d’une mission diplomatique de deux ans et il y retourna lorsqu’il\n",
    "y fut nommé secrétaire d’ambassade, y restant trois ans.\n",
    "Pendant ces deux séjours, il lut des livres traitant de cryptographie et entra en contact\n",
    "avec des cryptologues.\n",
    "Enfin, Henri III, qui avait beaucoup d’estime pour lui, le fit secrétaire de sa chambre.\n",
    "Il fut, entre-temps, quelque peu soldat, et mena une vie très peu exemplaire.\n",
    "Il mourut d'un cancer de la gorge. Sa tombe est à l'église Saint-Etienne-du-Mont.\n",
    "\"\"\"\n",
    "\n",
    "\n",
    "def test(nbre_tests, taille_mini_cle, taille_maxi_cle):\n",
    "    global TEXTE\n",
    "    \n",
    "    nbre_erreurs = 0\n",
    "\n",
    "    for i in range(nbre_tests):\n",
    "        taille_cle = randint(taille_mini_cle, taille_maxi_cle)\n",
    "    \n",
    "        cle = \"\"\n",
    "    \n",
    "        for j in range(taille_cle):\n",
    "            random_ord = randint(97, 122)\n",
    "            cle += chr(random_ord)\n",
    "\n",
    "        texte_code        = code(texte, cle)\n",
    "        tailles_possibles = tailles_possibles_cle(texte_code)\n",
    "    \n",
    "        if taille_cle not in tailles_possibles:\n",
    "            nbre_erreurs += 1\n",
    "    \n",
    "    if nbre_erreurs == 0:\n",
    "        messsage_erreur = \"Aucune erreur\"\n",
    "    elif nbre_erreurs == 1:\n",
    "        messsage_erreur = \"Une seule erreur\"\n",
    "    else:\n",
    "        messsage_erreur = \"{0} erreurs\".format(nbre_erreurs)\n",
    "        \n",
    "    messsage_erreur += \" sur \"\n",
    "\n",
    "    if nbre_tests == 1:\n",
    "        messsage_erreur += \"un seul test aléatoire effectué.\"\n",
    "    else:\n",
    "        messsage_erreur += \"{0} tests aléatoires effectués.\".format(nbre_tests)\n",
    "\n",
    "    print(messsage_erreur)\n",
    "\n",
    "    \n",
    "# ----------------- #\n",
    "# -- APPLICATION -- #\n",
    "# ----------------- #\n",
    "\n",
    "test(\n",
    "    nbre_tests      = 10**3,\n",
    "    taille_mini_cle = 3,\n",
    "    taille_maxi_cle = 20\n",
    ")"
   ]
  },
  {
   "cell_type": "markdown",
   "metadata": {},
   "source": [
    "Ceci est assez rassurant mais il faudrait faire des tests plus poussés via de vrais textes ayant une signification, et des clés fabriquées aléatoirement utilisant ou non des mots connus.\n",
    "Si l'on reprend le test précédent avec des clés de taille maximale $100$, on obtient un nombre d'erreurs de l'ordre de $50$ pour cent, ce qui est trop *(voir ci-après)*."
   ]
  },
  {
   "cell_type": "code",
   "execution_count": 15,
   "metadata": {
    "collapsed": false
   },
   "outputs": [
    {
     "name": "stdout",
     "output_type": "stream",
     "text": [
      "573 erreurs sur 1000 tests aléatoires effectués.\n"
     ]
    }
   ],
   "source": [
    "test(\n",
    "    nbre_tests      = 10**3,\n",
    "    taille_mini_cle = 3,\n",
    "    taille_maxi_cle = 100\n",
    ")"
   ]
  },
  {
   "cell_type": "markdown",
   "metadata": {},
   "source": [
    "Le programme proposé dans cette section pourrait être amélioré comme suit.\n",
    "\n",
    "1. On pourrait donner le choix à l'utilisateur de la valeur du nombre de multiples gardés par la fonction `propose_meilleurs_multiples`. Par contre, plus on garde de multiples, plus longue vont être les méthodes présentées dans la section suivante, mais ceci peut être un choix assumé par l'utilisateur.\n",
    "\n",
    "1. Peut-être une meilleure tactique... On tente un décryptage avec les dix meilleurs multiples, puis si l'on échoue, on esssaye alors avec les dix meilleurs suivants... etc. Ceci a l'avantage de tenter le maximum sans demander de paramétrages côté utilisateur.\n",
    "\n",
    "1. Si notre méthode de recherche d'une clé de taille connue n'est pas trop chronophage pour une taille donnée, on peut alors retirer de la liste des tailles possibles celles qui en divisent d'autres. Par exemple, au lieu de prendre la liste précédente `[2, 3, 4, 5, 6, 7, 8, 9, 10, 11, 12, 13, 15, 16, 17]`, on travaillerait avec `[7, 9, 10, 11, 12, 13, 15, 16, 17]`. On obtiendrait alors éventuellement comme clé de cryptage la clé initiale éventuellement répétée plusieurs fois.\n",
    "\n",
    "1. Une autre chose que l'on peut tenter, c'est de faire des choix au hasard dans notre liste de tailles possibles.\n",
    "\n",
    "\n",
    "**Remarque :** pour la petite histoire, une première tentative de l'auteur consitait à ne garder que le PGCD des différentes distances qui était le plus fréquent. Ceci avait produit un programme fonctionnant sur notre tout premier exemple mais le test aléatoire ci-dessus a tout de suite mis en défaut ce programme. Belle et étrange coïncidence montrant qu'il faut toujours bien tester ce que l'on fait. "
   ]
  },
  {
   "cell_type": "markdown",
   "metadata": {},
   "source": [
    "Aller plus loin : tenter de casser un code de Vigenère\n",
    "------------------------------------------------------\n",
    "\n",
    "> Nous ne proposons ici que des pistes théoriques pour tenter de casser un code de Vigenère.\n",
    "> Nous ne faisons aucune implémentation par manque de place dans la marge.\n",
    "\n",
    "\n",
    "### Grandeur et démesure\n",
    "\n",
    "Examinons pourquoi casser brutalement un code de Vigenère n'est pas envisageable. Imaginons par exemple que nous sachions que la taille de la clé soit exactement égale à $20$ *(cette hypothèse n'est pas exagérée car par exemple la phrase \"jesuisuncodesecret\", très facile à retenir, fait $18$ caractères de long)*. Nous avons alors $26^{20} \\approx 1,\\!99 \\times 10^{28}$ clés possibles d'après le calcul ci-dessous."
   ]
  },
  {
   "cell_type": "code",
   "execution_count": 16,
   "metadata": {
    "collapsed": false
   },
   "outputs": [
    {
     "name": "stdout",
     "output_type": "stream",
     "text": [
      "1.992814889520941e+28\n"
     ]
    }
   ],
   "source": [
    "print(float(26**20))"
   ]
  },
  {
   "cell_type": "markdown",
   "metadata": {},
   "source": [
    "Or l'ordinateur de l'auteur au moment où il rédige ce document possède un processeur de $2,\\!5$ GHz. Ceci signifie qu'il peut effectuer $2,\\!5 \\times 10^{9}$ opérations arithmétiques élémentaires par seconde.\n",
    "Faisons l'hypothèse excessive que le test d'une seule clé ne nous demande qu'une seule opération arithmétique élémentaire, et de plus que tout notre processeur soit utilisé uniquement par notre programme de décryptage *(nous faisons ici des hypothèses irréalistes mais nous allons comprendre bientôt pourquoi)*.\n",
    "Il faudrait alors pas moins d'environ $7,\\!9 \\times 10^{18}$ secondes pour tout tester d'après le premier calcul ci-dessous. Ceci donne le vertige quand on voit que cela correspond à environ $2,5 \\times 10^{11}$ années alors que l'âge de la Terre est de l'ordre $4,5 \\times 10^9$ ans !"
   ]
  },
  {
   "cell_type": "code",
   "execution_count": 17,
   "metadata": {
    "collapsed": false
   },
   "outputs": [
    {
     "name": "stdout",
     "output_type": "stream",
     "text": [
      "Durée en secondes : 7.971259558083764e+18\n",
      "Durée en années   : 252593972864.0\n",
      "\n",
      "Nombre de chiffre de la durée en années : 12\n"
     ]
    }
   ],
   "source": [
    "duree_en_secondes = 26**20 / (2.5*10**9)\n",
    "\n",
    "un_jour         = 60*60*24\n",
    "une_annee       = 365.25*un_jour\n",
    "duree_en_annees = duree_en_secondes // une_annee\n",
    "\n",
    "print(\"Durée en secondes :\", float(duree_en_secondes))\n",
    "print(\"Durée en années   :\", duree_en_annees)\n",
    "print(\"\")\n",
    "print(\"Nombre de chiffre de la durée en années :\", len(str(int(duree_en_annees))))"
   ]
  },
  {
   "cell_type": "markdown",
   "metadata": {},
   "source": [
    "On voit donc que même en faisant des hypothèses exagérées en notre faveur, nous arrivons à une situation impossible à réaliser concrètement. Ceci montre qu'une fois connue la taille de la clé, il faudra être malin pour casser un code de Vigenère."
   ]
  },
  {
   "cell_type": "markdown",
   "metadata": {},
   "source": [
    "### Un premier pari : la clé \"signifie\" quelque chose\n",
    "\n",
    "On peut supposer que la clé utilise des mots connus. Il faut alors arriver à produire toutes les clés possibles de taille connue qui sont construites à partir d'une liste de mots connus. \n",
    "Parmi toutes ces clés, on gardera alors celle produisant un texte avec le plus de mots connus *(voir ce qui a été fait avec le chiffrement de César pour un texte sans espace)*."
   ]
  },
  {
   "cell_type": "markdown",
   "metadata": {},
   "source": [
    "### Pari perdu, faisons une étude statistique\n",
    "\n",
    "Que faire si la clé a été produite aléatoirement ? Imaginons que la clé soit de longueur $20$. Ceci signifie alors que les lettres du texte codé qui sont aux positions $1$, $21$, $41$, ... etc sont codés via le même chiffrement de César. Ceci est aussi vrai pour les lettres aux positions $2$, $22$, $42$, ... etc, et ainsi de suite.\n",
    "Ceci nous permet alors de construire des sous-textes $ss\\_txt_1$, $ss\\_txt_2$, ... etc qui sont chacun codés suivant différents codes de César.\n",
    "Il nous faut alors casser ces différents chiffrements de César mais nous nous heurtons à un nouveau problème : tous ces sous-textes codent des bouts du texte initial, ces morceaux n'ayant aucune signification.\n",
    "Ceci nous empêche de compter le nombre de mots connus pour décoder $ss\\_txt_1$, puis $ss\\_txt_2$, ... etc. Ceci aurait demandé $26 + 26 + \\cdots = 20 \\times 26 = 520$ tests brutaux, ce qui aurait été parfaitement faisable en un temps raisonnable.\n",
    "\n",
    "\n",
    "Une technique souvent présentée consiste à parier que la répartition des lettres d'un sous-texte avant cryptage est proche de celle d'un texte ayant une signification *(de nouveau, cette conjecture demanderait à être testée sérieusement)*, puis à étudier les fréquences d'apparition des lettres codées pour les comparer avec celles de lettres dans un corpus de textes français.\n",
    "Le caractère de codage sera alors celui donnant des fréquences ressemblant le plus à celles du français. Ceci n'est pas simple à implémenter. En effet, comment programme-t-on le *\"ressemblant le plus à\"* ?\n",
    "\n",
    "\n",
    "Dans le chapitre 4 du livre *\"An introduction to mathematical cryptography\"*,  les auteurs J. Hoffstein, J. Pipher et J. H. Silverman présentent un quantificateur $IndCo(\\text{une_chaine})$ appelé indice de coïncidence d'une chaîne de caractères qui vérifie les deux propriétés suivantes.  \n",
    "\n",
    "1. $IndCo(\\text{une_chaine})$ est par définition la probalilité que deux caractères choisis au hasard dans $\\text{une_chaine}$ soient identiques.\n",
    "\n",
    "1. Si $C_{lettre}$ désigne le nombre d'apparition d'une lettre dans $\\text{une_chaine}$, alors nous avons la formule $\\displaystyle IndCo(\\text{une_chaine}) = \\frac{1}{n(n - 1)} \\sum_{lettre} C_{lettre} (C_{lettre} - 1)$ où $n$ est la taille de $\\text{une_chaine}$, la somme se faisant sur toutes les lettres apparaissant dans $\\text{une_chaine}$.\n",
    "\n",
    "On peut avec cet indicateur améliorer la première technique proposée ci-dessus pour décrypter un sous-texte. Il suffit d'appliquer la méthodologie suivante qui est facile à implémenter.\n",
    "\n",
    "1. On calcule $IndCo$ pour un corpus de textes français. On obtient un nombre que nous appellerons $I_{français}$.\n",
    "\n",
    "1. Pour chaque lettre codante possible $\\text{c}$, on calcule l'indice de coïncidence $I_\\text{c}$ pour le texte obtenu en décodant notre sous-texte avec la clé $\\text{c}$. On obtient ainsi $26$ indices. On garde alors uniquement les lettres $\\text{c}$ telles que $I_\\text{c}$ soit assez proches de $I_{français}$ *(il suffit de choisir une marge d'erreur autorisée, ou bien de ne garder par exemple que les trois indices les plus proches)*. De nouveau, nous parions sur le fait que la répartition des lettres d'un sous-texte avant cryptage est proche de celle d'un texte ayant une signification.\n",
    "\n",
    "Ceci permet de réduire le nombre de lettres possibles. Il reste alors à créer toutes les clés possibles pour ne garder que celle qui fournira le plus de mots connus dans le texte décrypté. Si l'on garde à chaque fois les trois lettres les plus probables pour une clé de longueur $20$, on réduit fabuleusement le temps de calcul à moins de deux secondes, toujours avec nos hypothèses excessives *(voir ci-après)*. On peut donc espérer que cette méthode soit réellement utilisable. "
   ]
  },
  {
   "cell_type": "code",
   "execution_count": 18,
   "metadata": {
    "collapsed": false
   },
   "outputs": [
    {
     "name": "stdout",
     "output_type": "stream",
     "text": [
      "Durée en secondes : 1.3947137604\n"
     ]
    }
   ],
   "source": [
    "duree_en_secondes = 3**20 / (2.5*10**9)\n",
    "\n",
    "print(\"Durée en secondes :\", float(duree_en_secondes))"
   ]
  },
  {
   "cell_type": "markdown",
   "metadata": {},
   "source": [
    "**Note : ** vous trouverez dans le livre *\"An introduction to mathematical cryptography\"* une autre méthode simple à implémenter qui tire partie du lien entre les différents sous-textes $ss\\_txt_1$, $ss\\_txt_2$, ... etc. Cette technique utilise un autre indicateur permettant de réduire drastiquement le nombre de tests brutaux à environ $26$ fois le nombre de couples $(ss\\_txt_i \\, , ss\\_txt_j)$ avec $i < j$. Ceci représente un gain énorme de temps même face à la deuxième  technique présentée juste avant."
   ]
  }
 ],
 "metadata": {
  "kernelspec": {
   "display_name": "Python 3",
   "language": "python",
   "name": "python3"
  },
  "language_info": {
   "codemirror_mode": {
    "name": "ipython",
    "version": 3
   },
   "file_extension": ".py",
   "mimetype": "text/x-python",
   "name": "python",
   "nbconvert_exporter": "python",
   "pygments_lexer": "ipython3",
   "version": "3.4.3"
  }
 },
 "nbformat": 4,
 "nbformat_minor": 0
}
